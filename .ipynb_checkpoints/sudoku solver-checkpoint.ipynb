{
 "cells": [
  {
   "cell_type": "markdown",
   "metadata": {},
   "source": [
    "# Sudoku solver\n",
    "## design a sudoku solver to solve sudoku in the for of numpy tensor"
   ]
  },
  {
   "cell_type": "markdown",
   "metadata": {},
   "source": [
    "### sudoku input = numpy shape (3,3,3,3)"
   ]
  },
  {
   "cell_type": "code",
   "execution_count": 45,
   "metadata": {},
   "outputs": [],
   "source": [
    "import numpy as np\n",
    "import matplotlib.pyplot as plt"
   ]
  },
  {
   "cell_type": "code",
   "execution_count": 46,
   "metadata": {},
   "outputs": [],
   "source": [
    "framework=np.arange(27*3,dtype=int).reshape([3,3,3,3])"
   ]
  },
  {
   "cell_type": "code",
   "execution_count": 47,
   "metadata": {},
   "outputs": [
    {
     "data": {
      "text/plain": [
       "array([[[[ 0,  1,  2],\n",
       "         [ 3,  4,  5],\n",
       "         [ 6,  7,  8]],\n",
       "\n",
       "        [[ 9, 10, 11],\n",
       "         [12, 13, 14],\n",
       "         [15, 16, 17]],\n",
       "\n",
       "        [[18, 19, 20],\n",
       "         [21, 22, 23],\n",
       "         [24, 25, 26]]],\n",
       "\n",
       "\n",
       "       [[[27, 28, 29],\n",
       "         [30, 31, 32],\n",
       "         [33, 34, 35]],\n",
       "\n",
       "        [[36, 37, 38],\n",
       "         [39, 40, 41],\n",
       "         [42, 43, 44]],\n",
       "\n",
       "        [[45, 46, 47],\n",
       "         [48, 49, 50],\n",
       "         [51, 52, 53]]],\n",
       "\n",
       "\n",
       "       [[[54, 55, 56],\n",
       "         [57, 58, 59],\n",
       "         [60, 61, 62]],\n",
       "\n",
       "        [[63, 64, 65],\n",
       "         [66, 67, 68],\n",
       "         [69, 70, 71]],\n",
       "\n",
       "        [[72, 73, 74],\n",
       "         [75, 76, 77],\n",
       "         [78, 79, 80]]]])"
      ]
     },
     "execution_count": 47,
     "metadata": {},
     "output_type": "execute_result"
    }
   ],
   "source": [
    "framework"
   ]
  },
  {
   "cell_type": "markdown",
   "metadata": {},
   "source": [
    "## list possiblities for verticle rows"
   ]
  },
  {
   "cell_type": "code",
   "execution_count": 65,
   "metadata": {},
   "outputs": [],
   "source": [
    "def list_possibilities(framework):\n",
    "    possiblelist=[]\n",
    "    for i in range(1,10):\n",
    "        if (i not in framework.flatten()):\n",
    "            possiblelist.append(i)\n",
    "    return possiblelist\n",
    "\n",
    "def list_verticle_framework(framework):\n",
    "    verticleposs=[]\n",
    "    for i in range(3):\n",
    "        for j in range(3):\n",
    "            verticleposs.append(list_possibilities(framework[i,:,:,j]))\n",
    "    return verticleposs"
   ]
  },
  {
   "cell_type": "code",
   "execution_count": 63,
   "metadata": {},
   "outputs": [],
   "source": [
    "v_poss=list_verticle_framework(framework)"
   ]
  },
  {
   "cell_type": "code",
   "execution_count": 64,
   "metadata": {},
   "outputs": [
    {
     "name": "stdout",
     "output_type": "stream",
     "text": [
      "[[1, 2, 4, 5, 7, 8], [2, 3, 5, 6, 8, 9], [1, 3, 4, 6, 7, 9], [1, 2, 3, 4, 5, 6, 7, 8, 9], [1, 2, 3, 4, 5, 6, 7, 8, 9], [1, 2, 3, 4, 5, 6, 7, 8, 9], [1, 2, 3, 4, 5, 6, 7, 8, 9], [1, 2, 3, 4, 5, 6, 7, 8, 9], [1, 2, 3, 4, 5, 6, 7, 8, 9]]\n"
     ]
    }
   ],
   "source": [
    "print(v_poss)"
   ]
  },
  {
   "cell_type": "markdown",
   "metadata": {},
   "source": [
    "## list possibilties for horizontal rows"
   ]
  },
  {
   "cell_type": "code",
   "execution_count": 79,
   "metadata": {},
   "outputs": [
    {
     "data": {
      "text/plain": [
       "array([[0, 1, 2],\n",
       "       [3, 4, 5],\n",
       "       [6, 7, 8]])"
      ]
     },
     "execution_count": 79,
     "metadata": {},
     "output_type": "execute_result"
    }
   ],
   "source": [
    "framework[0,0,:,:]"
   ]
  },
  {
   "cell_type": "code",
   "execution_count": 71,
   "metadata": {},
   "outputs": [],
   "source": [
    "def list_horizontal_framework(framework):\n",
    "    horizontalposs=[]\n",
    "    for i in range(3):\n",
    "        for j in range(3):\n",
    "            #print (framework[:,i,j,:])\n",
    "            horizontalposs.append(list_possibilities(framework[:,i,j,:]))\n",
    "    return horizontalposs"
   ]
  },
  {
   "cell_type": "code",
   "execution_count": 74,
   "metadata": {},
   "outputs": [],
   "source": [
    "h_poss=list_horizontal_framework(framework)"
   ]
  },
  {
   "cell_type": "markdown",
   "metadata": {},
   "source": [
    "## list possibilities within the array"
   ]
  },
  {
   "cell_type": "code",
   "execution_count": 86,
   "metadata": {},
   "outputs": [],
   "source": [
    "def list_box_framework(framework):\n",
    "    boxposs=[]\n",
    "    for i in range(3):\n",
    "        for j in range(3):\n",
    "            #print (framework[i,j,:,:])\n",
    "            boxposs.append(list_possibilities(framework[i,j,:,:]))\n",
    "    return boxposs"
   ]
  },
  {
   "cell_type": "code",
   "execution_count": 87,
   "metadata": {},
   "outputs": [],
   "source": [
    "b_poss=list_box_framework(framework)"
   ]
  },
  {
   "cell_type": "markdown",
   "metadata": {},
   "source": [
    "## find positional constant of each element"
   ]
  },
  {
   "cell_type": "code",
   "execution_count": 106,
   "metadata": {},
   "outputs": [
    {
     "name": "stdout",
     "output_type": "stream",
     "text": [
      "0 vrow is 0 hrow is 0 box is 0\n",
      "1 vrow is 1 hrow is 0 box is 0\n",
      "2 vrow is 2 hrow is 0 box is 0\n",
      "3 vrow is 0 hrow is 1 box is 0\n",
      "4 vrow is 1 hrow is 1 box is 0\n",
      "5 vrow is 2 hrow is 1 box is 0\n",
      "6 vrow is 0 hrow is 2 box is 0\n",
      "7 vrow is 1 hrow is 2 box is 0\n",
      "8 vrow is 2 hrow is 2 box is 0\n",
      "9 vrow is 0 hrow is 3 box is 1\n",
      "10 vrow is 1 hrow is 3 box is 1\n",
      "11 vrow is 2 hrow is 3 box is 1\n",
      "12 vrow is 0 hrow is 4 box is 1\n",
      "13 vrow is 1 hrow is 4 box is 1\n",
      "14 vrow is 2 hrow is 4 box is 1\n",
      "15 vrow is 0 hrow is 5 box is 1\n",
      "16 vrow is 1 hrow is 5 box is 1\n",
      "17 vrow is 2 hrow is 5 box is 1\n",
      "18 vrow is 0 hrow is 6 box is 2\n",
      "19 vrow is 1 hrow is 6 box is 2\n",
      "20 vrow is 2 hrow is 6 box is 2\n",
      "21 vrow is 0 hrow is 7 box is 2\n",
      "22 vrow is 1 hrow is 7 box is 2\n",
      "23 vrow is 2 hrow is 7 box is 2\n",
      "24 vrow is 0 hrow is 8 box is 2\n",
      "25 vrow is 1 hrow is 8 box is 2\n",
      "26 vrow is 2 hrow is 8 box is 2\n",
      "27 vrow is 3 hrow is 0 box is 3\n",
      "28 vrow is 4 hrow is 0 box is 3\n",
      "29 vrow is 5 hrow is 0 box is 3\n",
      "30 vrow is 3 hrow is 1 box is 3\n",
      "31 vrow is 4 hrow is 1 box is 3\n",
      "32 vrow is 5 hrow is 1 box is 3\n",
      "33 vrow is 3 hrow is 2 box is 3\n",
      "34 vrow is 4 hrow is 2 box is 3\n",
      "35 vrow is 5 hrow is 2 box is 3\n",
      "36 vrow is 3 hrow is 3 box is 4\n",
      "37 vrow is 4 hrow is 3 box is 4\n",
      "38 vrow is 5 hrow is 3 box is 4\n",
      "39 vrow is 3 hrow is 4 box is 4\n",
      "40 vrow is 4 hrow is 4 box is 4\n",
      "41 vrow is 5 hrow is 4 box is 4\n",
      "42 vrow is 3 hrow is 5 box is 4\n",
      "43 vrow is 4 hrow is 5 box is 4\n",
      "44 vrow is 5 hrow is 5 box is 4\n",
      "45 vrow is 3 hrow is 6 box is 5\n",
      "46 vrow is 4 hrow is 6 box is 5\n",
      "47 vrow is 5 hrow is 6 box is 5\n",
      "48 vrow is 3 hrow is 7 box is 5\n",
      "49 vrow is 4 hrow is 7 box is 5\n",
      "50 vrow is 5 hrow is 7 box is 5\n",
      "51 vrow is 3 hrow is 8 box is 5\n",
      "52 vrow is 4 hrow is 8 box is 5\n",
      "53 vrow is 5 hrow is 8 box is 5\n",
      "54 vrow is 6 hrow is 0 box is 6\n",
      "55 vrow is 7 hrow is 0 box is 6\n",
      "56 vrow is 8 hrow is 0 box is 6\n",
      "57 vrow is 6 hrow is 1 box is 6\n",
      "58 vrow is 7 hrow is 1 box is 6\n",
      "59 vrow is 8 hrow is 1 box is 6\n",
      "60 vrow is 6 hrow is 2 box is 6\n",
      "61 vrow is 7 hrow is 2 box is 6\n",
      "62 vrow is 8 hrow is 2 box is 6\n",
      "63 vrow is 6 hrow is 3 box is 7\n",
      "64 vrow is 7 hrow is 3 box is 7\n",
      "65 vrow is 8 hrow is 3 box is 7\n",
      "66 vrow is 6 hrow is 4 box is 7\n",
      "67 vrow is 7 hrow is 4 box is 7\n",
      "68 vrow is 8 hrow is 4 box is 7\n",
      "69 vrow is 6 hrow is 5 box is 7\n",
      "70 vrow is 7 hrow is 5 box is 7\n",
      "71 vrow is 8 hrow is 5 box is 7\n",
      "72 vrow is 6 hrow is 6 box is 8\n",
      "73 vrow is 7 hrow is 6 box is 8\n",
      "74 vrow is 8 hrow is 6 box is 8\n",
      "75 vrow is 6 hrow is 7 box is 8\n",
      "76 vrow is 7 hrow is 7 box is 8\n",
      "77 vrow is 8 hrow is 7 box is 8\n",
      "78 vrow is 6 hrow is 8 box is 8\n",
      "79 vrow is 7 hrow is 8 box is 8\n",
      "80 vrow is 8 hrow is 8 box is 8\n"
     ]
    }
   ],
   "source": [
    "framework_with_positional_element=np.zeros([3,3,3,3,4])\n",
    "for indexi,i in enumerate(framework):\n",
    "    for indexj,j in enumerate(i):\n",
    "        for indexk,k in enumerate(j):\n",
    "            for indexl,l in enumerate(k):\n",
    "                print(l,f'vrow is {3*indexi+indexl} hrow is {3*indexj+indexk} box is {3*indexi+indexj}')\n",
    "                framework_with_positional_element[indexi,indexj,indexk,indexl]=[l,3*indexi+indexl,3*indexj+indexk,3*indexi+indexj]"
   ]
  },
  {
   "cell_type": "code",
   "execution_count": 107,
   "metadata": {},
   "outputs": [
    {
     "data": {
      "text/plain": [
       "array([[[[[ 0.,  0.,  0.,  0.],\n",
       "          [ 1.,  1.,  0.,  0.],\n",
       "          [ 2.,  2.,  0.,  0.]],\n",
       "\n",
       "         [[ 3.,  0.,  1.,  0.],\n",
       "          [ 4.,  1.,  1.,  0.],\n",
       "          [ 5.,  2.,  1.,  0.]],\n",
       "\n",
       "         [[ 6.,  0.,  2.,  0.],\n",
       "          [ 7.,  1.,  2.,  0.],\n",
       "          [ 8.,  2.,  2.,  0.]]],\n",
       "\n",
       "\n",
       "        [[[ 9.,  0.,  3.,  1.],\n",
       "          [10.,  1.,  3.,  1.],\n",
       "          [11.,  2.,  3.,  1.]],\n",
       "\n",
       "         [[12.,  0.,  4.,  1.],\n",
       "          [13.,  1.,  4.,  1.],\n",
       "          [14.,  2.,  4.,  1.]],\n",
       "\n",
       "         [[15.,  0.,  5.,  1.],\n",
       "          [16.,  1.,  5.,  1.],\n",
       "          [17.,  2.,  5.,  1.]]],\n",
       "\n",
       "\n",
       "        [[[18.,  0.,  6.,  2.],\n",
       "          [19.,  1.,  6.,  2.],\n",
       "          [20.,  2.,  6.,  2.]],\n",
       "\n",
       "         [[21.,  0.,  7.,  2.],\n",
       "          [22.,  1.,  7.,  2.],\n",
       "          [23.,  2.,  7.,  2.]],\n",
       "\n",
       "         [[24.,  0.,  8.,  2.],\n",
       "          [25.,  1.,  8.,  2.],\n",
       "          [26.,  2.,  8.,  2.]]]],\n",
       "\n",
       "\n",
       "\n",
       "       [[[[27.,  3.,  0.,  3.],\n",
       "          [28.,  4.,  0.,  3.],\n",
       "          [29.,  5.,  0.,  3.]],\n",
       "\n",
       "         [[30.,  3.,  1.,  3.],\n",
       "          [31.,  4.,  1.,  3.],\n",
       "          [32.,  5.,  1.,  3.]],\n",
       "\n",
       "         [[33.,  3.,  2.,  3.],\n",
       "          [34.,  4.,  2.,  3.],\n",
       "          [35.,  5.,  2.,  3.]]],\n",
       "\n",
       "\n",
       "        [[[36.,  3.,  3.,  4.],\n",
       "          [37.,  4.,  3.,  4.],\n",
       "          [38.,  5.,  3.,  4.]],\n",
       "\n",
       "         [[39.,  3.,  4.,  4.],\n",
       "          [40.,  4.,  4.,  4.],\n",
       "          [41.,  5.,  4.,  4.]],\n",
       "\n",
       "         [[42.,  3.,  5.,  4.],\n",
       "          [43.,  4.,  5.,  4.],\n",
       "          [44.,  5.,  5.,  4.]]],\n",
       "\n",
       "\n",
       "        [[[45.,  3.,  6.,  5.],\n",
       "          [46.,  4.,  6.,  5.],\n",
       "          [47.,  5.,  6.,  5.]],\n",
       "\n",
       "         [[48.,  3.,  7.,  5.],\n",
       "          [49.,  4.,  7.,  5.],\n",
       "          [50.,  5.,  7.,  5.]],\n",
       "\n",
       "         [[51.,  3.,  8.,  5.],\n",
       "          [52.,  4.,  8.,  5.],\n",
       "          [53.,  5.,  8.,  5.]]]],\n",
       "\n",
       "\n",
       "\n",
       "       [[[[54.,  6.,  0.,  6.],\n",
       "          [55.,  7.,  0.,  6.],\n",
       "          [56.,  8.,  0.,  6.]],\n",
       "\n",
       "         [[57.,  6.,  1.,  6.],\n",
       "          [58.,  7.,  1.,  6.],\n",
       "          [59.,  8.,  1.,  6.]],\n",
       "\n",
       "         [[60.,  6.,  2.,  6.],\n",
       "          [61.,  7.,  2.,  6.],\n",
       "          [62.,  8.,  2.,  6.]]],\n",
       "\n",
       "\n",
       "        [[[63.,  6.,  3.,  7.],\n",
       "          [64.,  7.,  3.,  7.],\n",
       "          [65.,  8.,  3.,  7.]],\n",
       "\n",
       "         [[66.,  6.,  4.,  7.],\n",
       "          [67.,  7.,  4.,  7.],\n",
       "          [68.,  8.,  4.,  7.]],\n",
       "\n",
       "         [[69.,  6.,  5.,  7.],\n",
       "          [70.,  7.,  5.,  7.],\n",
       "          [71.,  8.,  5.,  7.]]],\n",
       "\n",
       "\n",
       "        [[[72.,  6.,  6.,  8.],\n",
       "          [73.,  7.,  6.,  8.],\n",
       "          [74.,  8.,  6.,  8.]],\n",
       "\n",
       "         [[75.,  6.,  7.,  8.],\n",
       "          [76.,  7.,  7.,  8.],\n",
       "          [77.,  8.,  7.,  8.]],\n",
       "\n",
       "         [[78.,  6.,  8.,  8.],\n",
       "          [79.,  7.,  8.,  8.],\n",
       "          [80.,  8.,  8.,  8.]]]]])"
      ]
     },
     "execution_count": 107,
     "metadata": {},
     "output_type": "execute_result"
    }
   ],
   "source": [
    "framework_with_positional_element"
   ]
  },
  {
   "cell_type": "code",
   "execution_count": null,
   "metadata": {},
   "outputs": [],
   "source": []
  }
 ],
 "metadata": {
  "kernelspec": {
   "display_name": "Python 3",
   "language": "python",
   "name": "python3"
  },
  "language_info": {
   "codemirror_mode": {
    "name": "ipython",
    "version": 3
   },
   "file_extension": ".py",
   "mimetype": "text/x-python",
   "name": "python",
   "nbconvert_exporter": "python",
   "pygments_lexer": "ipython3",
   "version": "3.6.8"
  }
 },
 "nbformat": 4,
 "nbformat_minor": 2
}
