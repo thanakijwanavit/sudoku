{
 "cells": [
  {
   "cell_type": "markdown",
   "metadata": {},
   "source": [
    "# Sudoku solver\n",
    "## design a sudoku solver to solve sudoku in the for of numpy tensor"
   ]
  },
  {
   "cell_type": "markdown",
   "metadata": {},
   "source": [
    "### sudoku input = numpy shape (3,3,3,3)"
   ]
  },
  {
   "cell_type": "code",
   "execution_count": 101,
   "metadata": {},
   "outputs": [],
   "source": [
    "import numpy as np\n",
    "import matplotlib.pyplot as plt\n",
    "from datetime import datetime as time\n",
    "\n",
    "# np.arange(1,82)\n",
    "#np.swapaxes(np.swapaxes(new_sudoku.reshape([3,3,3,3]),0,2),1,2)"
   ]
  },
  {
   "cell_type": "markdown",
   "metadata": {},
   "source": [
    "# Generate sudoku"
   ]
  },
  {
   "cell_type": "code",
   "execution_count": 102,
   "metadata": {},
   "outputs": [
    {
     "name": "stdout",
     "output_type": "stream",
     "text": [
      "Answer:\n",
      " [[7 9 5 3 4 1 8 2 6]\n",
      " [2 1 8 7 6 9 3 4 5]\n",
      " [3 4 6 5 8 2 7 1 9]\n",
      " [8 5 1 9 2 7 6 3 4]\n",
      " [6 3 2 1 5 4 9 8 7]\n",
      " [9 7 4 6 3 8 1 5 2]\n",
      " [4 2 3 8 9 6 5 7 1]\n",
      " [5 6 7 4 1 3 2 9 8]\n",
      " [1 8 9 2 7 5 4 6 3]]\n",
      "\n",
      "Masked anwser:\n",
      " [[7 9 5 3 4 1 8 2 6]\n",
      " [2 1 0 0 0 9 3 4 5]\n",
      " [3 4 6 5 0 2 7 1 9]\n",
      " [0 5 1 0 2 7 6 3 4]\n",
      " [6 3 2 1 5 4 9 8 7]\n",
      " [9 0 0 0 3 8 1 5 2]\n",
      " [4 2 3 0 9 6 5 7 1]\n",
      " [0 6 0 4 1 3 2 9 8]\n",
      " [1 8 9 2 7 5 4 6 3]]\n"
     ]
    }
   ],
   "source": [
    "def generate_sudoku(mask_rate=0.7):\n",
    "    while True:\n",
    "        n = 9\n",
    "        m = np.zeros((n, n), np.int)\n",
    "        rg = np.arange(1, n + 1)\n",
    "        m[0, :] = np.random.choice(rg, n, replace=False)\n",
    "        try:\n",
    "            for r in range(1, n):\n",
    "                for c in range(n):\n",
    "                    col_rest = np.setdiff1d(rg, m[:r, c])\n",
    "                    row_rest = np.setdiff1d(rg, m[r, :c])\n",
    "                    avb1 = np.intersect1d(col_rest, row_rest)\n",
    "                    sub_r, sub_c = r//3, c//3\n",
    "                    avb2 = np.setdiff1d(np.arange(0, n+1), m[sub_r*3:(sub_r+1)*3, sub_c*3:(sub_c+1)*3].ravel())\n",
    "                    avb = np.intersect1d(avb1, avb2)\n",
    "                    m[r, c] = np.random.choice(avb, size=1)\n",
    "            break\n",
    "        except ValueError:\n",
    "            pass\n",
    "    print(\"Answer:\\n\", m)\n",
    "    mm = m.copy()\n",
    "    mm[np.random.choice([True, False], size=m.shape, p=[mask_rate, 1 - mask_rate])] = 0\n",
    "    print(\"\\nMasked anwser:\\n\", mm)\n",
    "    np.savetxt(\"./puzzle.csv\", mm, \"%d\", delimiter=\",\")\n",
    "    return mm\n",
    "\n",
    "new_sudoku=generate_sudoku(0.1)"
   ]
  },
  {
   "cell_type": "markdown",
   "metadata": {},
   "source": [
    "## Reshaped into the required format"
   ]
  },
  {
   "cell_type": "code",
   "execution_count": 103,
   "metadata": {},
   "outputs": [],
   "source": [
    "# framework=np.random.randint(0,10,[3,3,3,3])\n",
    "framework=np.swapaxes(np.swapaxes(new_sudoku.reshape([3,3,3,3]),0,2),1,2)\n",
    "\n",
    "#framework=np.arange(27*3,dtype=int).reshape([3,3,3,3])\n",
    "\n",
    "#framework"
   ]
  },
  {
   "cell_type": "markdown",
   "metadata": {},
   "source": [
    "## list possiblities for verticle rows"
   ]
  },
  {
   "cell_type": "code",
   "execution_count": 104,
   "metadata": {},
   "outputs": [],
   "source": [
    "def list_possibilities(framework):\n",
    "    possiblelist=[]\n",
    "    for i in range(1,10):\n",
    "        if (i not in framework.flatten()):\n",
    "            possiblelist.append(i)\n",
    "    return possiblelist\n",
    "\n",
    "def list_verticle_framework(framework):\n",
    "    verticleposs=[]\n",
    "    for i in range(3):\n",
    "        for j in range(3):\n",
    "            verticleposs.append(list_possibilities(framework[i,:,:,j]))\n",
    "    return verticleposs\n",
    "\n",
    "v_poss=list_verticle_framework(framework)\n",
    "\n",
    "#print(v_poss)"
   ]
  },
  {
   "cell_type": "markdown",
   "metadata": {},
   "source": [
    "## list possibilties for horizontal rows"
   ]
  },
  {
   "cell_type": "code",
   "execution_count": 105,
   "metadata": {},
   "outputs": [],
   "source": [
    "#framework[0,0,:,:]\n",
    "\n",
    "def list_horizontal_framework(framework):\n",
    "    horizontalposs=[]\n",
    "    for i in range(3):\n",
    "        for j in range(3):\n",
    "            #print (framework[:,i,j,:])\n",
    "            horizontalposs.append(list_possibilities(framework[:,i,j,:]))\n",
    "    return horizontalposs\n",
    "\n",
    "h_poss=list_horizontal_framework(framework)"
   ]
  },
  {
   "cell_type": "markdown",
   "metadata": {},
   "source": [
    "## list possibilities within the array"
   ]
  },
  {
   "cell_type": "code",
   "execution_count": 106,
   "metadata": {},
   "outputs": [],
   "source": [
    "def list_box_framework(framework):\n",
    "    boxposs=[]\n",
    "    for i in range(3):\n",
    "        for j in range(3):\n",
    "            #print (framework[i,j,:,:])\n",
    "            boxposs.append(list_possibilities(framework[i,j,:,:]))\n",
    "    return boxposs\n",
    "\n",
    "b_poss=list_box_framework(framework)"
   ]
  },
  {
   "cell_type": "markdown",
   "metadata": {},
   "source": [
    "## find positional constant of each element"
   ]
  },
  {
   "cell_type": "code",
   "execution_count": 107,
   "metadata": {},
   "outputs": [],
   "source": [
    "def generate_positional_array(framework):\n",
    "    framework_with_positional_element=np.zeros([3,3,3,3,4],dtype=int)\n",
    "    for indexi,i in enumerate(framework):\n",
    "        for indexj,j in enumerate(i):\n",
    "            for indexk,k in enumerate(j):\n",
    "                for indexl,l in enumerate(k):\n",
    "                    #print(l,f'vrow is {3*indexi+indexl} hrow is {3*indexj+indexk} box is {3*indexi+indexj}')\n",
    "                    framework_with_positional_element[indexi,indexj,indexk,indexl]=[l,3*indexi+indexl,3*indexj+indexk,3*indexi+indexj]\n",
    "    return framework_with_positional_element\n",
    "        \n",
    "        \n",
    "        \n",
    "        \n",
    "\n",
    "framework_with_positional_element = generate_positional_array(framework)"
   ]
  },
  {
   "cell_type": "code",
   "execution_count": 108,
   "metadata": {},
   "outputs": [
    {
     "name": "stdout",
     "output_type": "stream",
     "text": [
      "[8]\n",
      "replace index 0012 with 8\n",
      "[8]\n",
      "replace index 0100 with 8\n",
      "[7]\n",
      "replace index 0121 with 7\n",
      "[4 7]\n",
      "[5]\n",
      "replace index 0210 with 5\n",
      "[7]\n",
      "replace index 0212 with 7\n",
      "[6 7 8]\n",
      "[6 8]\n",
      "[8]\n",
      "replace index 1021 with 8\n",
      "[9]\n",
      "replace index 1100 with 9\n",
      "[6]\n",
      "replace index 1120 with 6\n",
      "[8]\n",
      "replace index 1200 with 8\n",
      "[4 7]\n",
      "[6 7 8]\n",
      "[6 8]\n",
      "[4 7]\n",
      "[6 7 8]\n",
      "[6 8]\n",
      "[4 7]\n",
      "[6 7 8]\n",
      "[6 8]\n",
      "[4 7]\n",
      "[6 7 8]\n",
      "[6 8]\n",
      "[4 7]\n",
      "[6 7 8]\n",
      "[6 8]\n",
      "sudoku is still not completed after 9.878 ms\n"
     ]
    }
   ],
   "source": [
    "def list_all(f,framework,tries):\n",
    "    count =0\n",
    "    t0=time.now()\n",
    "    remaining = 0\n",
    "    while True:\n",
    "        for ii,i in enumerate(f):\n",
    "            for ij,j in enumerate(i):\n",
    "                for ik,k in enumerate(j):\n",
    "                    for il,l in enumerate(k):\n",
    "                        #print(l)\n",
    "                        if l[0]==0:\n",
    "                            remaining_possibilities=np.intersect1d(np.intersect1d(v_poss[l[1]],h_poss[l[2]]),b_poss[l[3]])\n",
    "                            print(remaining_possibilities)\n",
    "                            if len(remaining_possibilities)==1:\n",
    "                                print (f'replace index {ii}{ij}{ik}{il} with {remaining_possibilities[0]}')\n",
    "                                framework[ii,ij,ik,il]=remaining_possibilities[0]\n",
    "                                f[ii,ij,ik,il,0]=remaining_possibilities[0]\n",
    "                            elif (len(remaining_possibilities)==0):\n",
    "                                print('sudoku is not possible')\n",
    "                                count=tries\n",
    "                            else:\n",
    "                                remaining +=1\n",
    "        count +=1\n",
    "        if remaining==0:break\n",
    "        if count>tries:break\n",
    "    print(f'sudoku complete time taken is {(time.now()-t0).total_seconds()*1000} ms') if remaining ==0 else print (f'sudoku is still not completed after {(time.now()-t0).total_seconds()*1000} ms')\n",
    "                            \n",
    "\n",
    "list_all(framework_with_positional_element,framework,5)"
   ]
  },
  {
   "cell_type": "code",
   "execution_count": 109,
   "metadata": {},
   "outputs": [
    {
     "name": "stdout",
     "output_type": "stream",
     "text": [
      "[[[[[7 0 0 0]\n",
      "    [9 1 0 0]\n",
      "    [5 2 0 0]]\n",
      "\n",
      "   [[2 0 1 0]\n",
      "    [1 1 1 0]\n",
      "    [8 2 1 0]]\n",
      "\n",
      "   [[3 0 2 0]\n",
      "    [4 1 2 0]\n",
      "    [6 2 2 0]]]\n",
      "\n",
      "\n",
      "  [[[8 0 3 1]\n",
      "    [5 1 3 1]\n",
      "    [1 2 3 1]]\n",
      "\n",
      "   [[6 0 4 1]\n",
      "    [3 1 4 1]\n",
      "    [2 2 4 1]]\n",
      "\n",
      "   [[9 0 5 1]\n",
      "    [7 1 5 1]\n",
      "    [0 2 5 1]]]\n",
      "\n",
      "\n",
      "  [[[4 0 6 2]\n",
      "    [2 1 6 2]\n",
      "    [3 2 6 2]]\n",
      "\n",
      "   [[5 0 7 2]\n",
      "    [6 1 7 2]\n",
      "    [7 2 7 2]]\n",
      "\n",
      "   [[1 0 8 2]\n",
      "    [8 1 8 2]\n",
      "    [9 2 8 2]]]]\n",
      "\n",
      "\n",
      "\n",
      " [[[[3 3 0 3]\n",
      "    [4 4 0 3]\n",
      "    [1 5 0 3]]\n",
      "\n",
      "   [[0 3 1 3]\n",
      "    [0 4 1 3]\n",
      "    [9 5 1 3]]\n",
      "\n",
      "   [[5 3 2 3]\n",
      "    [8 4 2 3]\n",
      "    [2 5 2 3]]]\n",
      "\n",
      "\n",
      "  [[[9 3 3 4]\n",
      "    [2 4 3 4]\n",
      "    [7 5 3 4]]\n",
      "\n",
      "   [[1 3 4 4]\n",
      "    [5 4 4 4]\n",
      "    [4 5 4 4]]\n",
      "\n",
      "   [[6 3 5 4]\n",
      "    [3 4 5 4]\n",
      "    [8 5 5 4]]]\n",
      "\n",
      "\n",
      "  [[[8 3 6 5]\n",
      "    [9 4 6 5]\n",
      "    [6 5 6 5]]\n",
      "\n",
      "   [[4 3 7 5]\n",
      "    [1 4 7 5]\n",
      "    [3 5 7 5]]\n",
      "\n",
      "   [[2 3 8 5]\n",
      "    [7 4 8 5]\n",
      "    [5 5 8 5]]]]\n",
      "\n",
      "\n",
      "\n",
      " [[[[8 6 0 6]\n",
      "    [2 7 0 6]\n",
      "    [6 8 0 6]]\n",
      "\n",
      "   [[3 6 1 6]\n",
      "    [4 7 1 6]\n",
      "    [5 8 1 6]]\n",
      "\n",
      "   [[7 6 2 6]\n",
      "    [1 7 2 6]\n",
      "    [9 8 2 6]]]\n",
      "\n",
      "\n",
      "  [[[6 6 3 7]\n",
      "    [3 7 3 7]\n",
      "    [4 8 3 7]]\n",
      "\n",
      "   [[9 6 4 7]\n",
      "    [8 7 4 7]\n",
      "    [7 8 4 7]]\n",
      "\n",
      "   [[1 6 5 7]\n",
      "    [5 7 5 7]\n",
      "    [2 8 5 7]]]\n",
      "\n",
      "\n",
      "  [[[5 6 6 8]\n",
      "    [7 7 6 8]\n",
      "    [1 8 6 8]]\n",
      "\n",
      "   [[2 6 7 8]\n",
      "    [9 7 7 8]\n",
      "    [8 8 7 8]]\n",
      "\n",
      "   [[4 6 8 8]\n",
      "    [6 7 8 8]\n",
      "    [3 8 8 8]]]]]\n"
     ]
    }
   ],
   "source": [
    "#framework\n",
    "print(framework_with_positional_element)"
   ]
  },
  {
   "cell_type": "code",
   "execution_count": 110,
   "metadata": {},
   "outputs": [
    {
     "data": {
      "image/png": "[encoded data removed]",
      "text/plain": [
       "<Figure size 432x288 with 9 Axes>"
      ]
     },
     "metadata": {
      "needs_background": "light"
     },
     "output_type": "display_data"
    }
   ],
   "source": [
    "import seaborn as sns\n",
    "import matplotlib.pyplot as plt\n",
    "import pandas as pd\n",
    "\n",
    "df=[]\n",
    "for i in framework:\n",
    "    for j in i:\n",
    "        df.append(pd.DataFrame(j))\n",
    "\n",
    "fig,axn = plt.subplots(3, 3, sharex=True, sharey=True)\n",
    "\n",
    "for ax,dfi in zip(np.swapaxes(axn,0,1).flat,df):\n",
    "    sns.heatmap(dfi,annot=True, ax=ax, cbar=False, cmap='Greys')\n",
    "    ax.get_xaxis().set_visible(False)\n",
    "    ax.get_yaxis().set_visible(False)"
   ]
  },
  {
   "cell_type": "code",
   "execution_count": null,
   "metadata": {},
   "outputs": [],
   "source": []
  },
  {
   "cell_type": "code",
   "execution_count": null,
   "metadata": {},
   "outputs": [],
   "source": []
  }
 ],
 "metadata": {
  "kernelspec": {
   "display_name": "Python 3",
   "language": "python",
   "name": "python3"
  },
  "language_info": {
   "codemirror_mode": {
    "name": "ipython",
    "version": 3
   },
   "file_extension": ".py",
   "mimetype": "text/x-python",
   "name": "python",
   "nbconvert_exporter": "python",
   "pygments_lexer": "ipython3",
   "version": "3.6.8"
  }
 },
 "nbformat": 4,
 "nbformat_minor": 2
}
