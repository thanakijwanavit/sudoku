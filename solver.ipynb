{
 "cells": [
  {
   "cell_type": "code",
   "execution_count": 2,
   "metadata": {},
   "outputs": [],
   "source": [
    "import numpy as np\n",
    "import matplotlib.pyplot as plt\n",
    "from datetime import datetime as time\n",
    "import functions as f\n",
    "\n",
    "\n",
    "def calculate_and_solve(framework_input):\n",
    "\tframework=framework_input.copy()\n",
    "\t### calculate each position array###\n",
    "\tv_poss=self.list_verticle_framework(framework)\n",
    "\th_poss=f.list_horizontal_framework(framework)\n",
    "\tb_poss=f.list_box_framework(framework)\n",
    "\tframework_with_positional_element = f.generate_positional_array(framework)\n",
    "\t### solve ####\n",
    "\tstatus,remain_possible=f.solve(framework_with_positional_element,framework,1,v_poss,h_poss,b_poss)\n",
    "\treturn [framework,status,remain_possible]\n",
    "\n",
    "def solve_multiple_times(new_sudoku_input,times,need_conversion=1):\n",
    "\tnew_sudoku=new_sudoku_input.copy()\n",
    "\t#print(f\"input sudoku is {new_sudoku}\")\n",
    "\t### convert into 3,3,3,3 dimension###\n",
    "\tif need_conversion==1:\n",
    "\t\tsudoku=f.create_framework(new_sudoku)\n",
    "\telse:\n",
    "\t\tsudoku = new_sudoku\n",
    "\t#print(f\"new sudoku is {sudoku}\")\n",
    "\tfor i in range(times):\n",
    "\t\tsudoku,status,remain_possible=calculate_and_solve(sudoku)\n",
    "\t\tif status == 0 : return {'sudoku':sudoku,\"loops\":i,\"status\":status,\"remaining\":remain_possible}\n",
    "\treturn {'sudoku':sudoku,\"loops\":i,\"status\":status,\"remaining\":remain_possible}\n",
    "\n",
    "def guess(final_sudoku_original,index=0,hindex=0):\n",
    "    final_sudoku=final_sudoku_original.copy()\n",
    "    #first_position=final_sudoku['sudoku'][final_sudoku['remaining']['position'][0][0],final_sudoku['remaining']['position'][0][1],final_sudoku['remaining']['position'][0][2],final_sudoku['remaining']['position'][0][3]]\n",
    "    #print(f'the first position is {first_position}')\n",
    "    possible=final_sudoku['remaining']['possible_num'][hindex]\n",
    "    #print(f'from guess,the possible values are {possible}')\n",
    "    if (len(possible)<10):\n",
    "        final_sudoku['sudoku'][final_sudoku['remaining']['position'][hindex][0],final_sudoku['remaining']['position'][hindex][1],final_sudoku['remaining']['position'][hindex][2],final_sudoku['remaining']['position'][hindex][3]]=possible[index]\n",
    "#         print(f\"guess {possible[index]} at position {final_sudoku['remaining']['position'][hindex]}\")\n",
    "    else:\n",
    "        print('there are too many possibilities')\n",
    "    #print(first_position,possible)\n",
    "    ### clear variables before return\n",
    "    del final_sudoku['loops'];del final_sudoku['remaining']\n",
    "    return final_sudoku\n",
    "\n",
    "def solve_complex(final_sudoku1,loops=10,hindex=0): # hindex is index of unfound digit to solve\n",
    "    final_sudoku=final_sudoku1.copy()\n",
    "    loopcount=0\n",
    "    sudoku_solution=[]\n",
    "    sudokuarray=[]\n",
    "    while (final_sudoku['status']==1 and loopcount<loops):\n",
    "          for index,j in enumerate(final_sudoku['remaining']['possible_num'][hindex]):\n",
    "#               print(f\"from solve_complex, possible values are {final_sudoku['remaining']['possible_num'][hindex]} the index is {index}\")\n",
    "    #           print(f\"guess new sudoku {guess(final_sudoku,index=index)['sudoku']}\")\n",
    "              sudokuarray.append(solve_multiple_times(guess(final_sudoku,index=index,hindex=hindex)['sudoku'],10,need_conversion=0))\n",
    "          for sudoku in sudokuarray:\n",
    "              if sudoku['status'] == 0:\n",
    "#                     print('sudoku is solved')\n",
    "                    final_sudoku=sudoku\n",
    "                    sudoku_solution.append(sudoku.copy())\n",
    "              elif sudoku['status'] == 1:\n",
    "#                     print('continue solving')\n",
    "                    final_sudoku=sudoku\n",
    "          loopcount+=1\n",
    "    return [sudoku_solution,loopcount]\n",
    "\n",
    "    "
   ]
  },
  {
   "cell_type": "code",
   "execution_count": 3,
   "metadata": {},
   "outputs": [
    {
     "name": "stdout",
     "output_type": "stream",
     "text": [
      "Answer:\n",
      " [[9 5 4 8 6 7 3 1 2]\n",
      " [2 8 3 1 4 5 6 9 7]\n",
      " [7 1 6 3 9 2 4 8 5]\n",
      " [4 9 8 7 5 3 2 6 1]\n",
      " [6 3 1 2 8 4 7 5 9]\n",
      " [5 7 2 6 1 9 8 3 4]\n",
      " [3 2 9 5 7 6 1 4 8]\n",
      " [8 4 7 9 3 1 5 2 6]\n",
      " [1 6 5 4 2 8 9 7 3]]\n",
      "\n",
      "Masked answer:\n",
      " [[0 0 0 0 0 0 3 1 0]\n",
      " [2 0 0 1 4 5 6 0 0]\n",
      " [0 1 6 0 9 0 0 0 5]\n",
      " [4 9 8 7 5 0 0 0 1]\n",
      " [6 0 1 0 8 4 0 0 0]\n",
      " [0 0 2 0 0 9 0 0 0]\n",
      " [0 2 0 0 0 6 0 4 0]\n",
      " [0 0 7 0 3 1 5 2 0]\n",
      " [0 6 5 4 0 0 9 7 0]]\n",
      "sudoku is solved\n",
      "sudoku is solved\n",
      "sudoku is solved\n",
      "final time is 1926.125 ms after 2 guesses. 3 solutions found\n"
     ]
    }
   ],
   "source": [
    "## specify variables\n",
    "t0=time.now()\n",
    "difficulty=0.5\n",
    "times=2\n",
    "guesses=100\n",
    "### generate sudoku ####\n",
    "new_sudoku=f.generate_sudoku(difficulty)\n",
    "loopcount=0\n",
    "##first solution\n",
    "final_sudoku=solve_multiple_times(new_sudoku,times)\n",
    "##next solution\n",
    "# sudoku_solution,loopcount=solve_complex(final_sudoku,hindex=0)\n",
    "##all solutions\n",
    "sudoku_solutions=[]\n",
    "if final_sudoku['status']==1:\n",
    "    for i in range(len(final_sudoku['remaining'])):\n",
    "        sudoku_solution,loopcounti=solve_complex(final_sudoku,hindex=i,loops=guesses)\n",
    "        sudoku_solutions.extend(sudoku_solution)\n",
    "        loopcount+=loopcounti\n",
    "elif final_sudoku['status']==0:\n",
    "    sudoku_solutions.append(final_sudoku)\n",
    "\n",
    "#### save to file ####\n",
    "np.save(\"solved\", sudoku_solutions)\n",
    "print(f'final time is {(time.now()-t0).total_seconds()*1000} ms after {loopcount} guesses. {len(sudoku_solutions)} solutions found')"
   ]
  },
  {
   "cell_type": "code",
   "execution_count": 4,
   "metadata": {},
   "outputs": [
    {
     "data": {
      "image/png": "[encoded data removed]",
      "text/plain": [
       "<matplotlib.figure.Figure at 0x111a1df60>"
      ]
     },
     "metadata": {
      "needs_background": "light"
     },
     "output_type": "display_data"
    }
   ],
   "source": [
    "f.plot(np.load('puzzle.npy'))"
   ]
  },
  {
   "cell_type": "code",
   "execution_count": 5,
   "metadata": {},
   "outputs": [
    {
     "data": {
      "image/png": "[encoded data removed]",
      "text/plain": [
       "<matplotlib.figure.Figure at 0x11c8d4b70>"
      ]
     },
     "metadata": {
      "needs_background": "light"
     },
     "output_type": "display_data"
    },
    {
     "data": {
      "image/png": "[encoded data removed]",
      "text/plain": [
       "<matplotlib.figure.Figure at 0x11c75e780>"
      ]
     },
     "metadata": {
      "needs_background": "light"
     },
     "output_type": "display_data"
    },
    {
     "data": {
      "image/png": "[encoded data removed]",
      "text/plain": [
       "<matplotlib.figure.Figure at 0x11c61db70>"
      ]
     },
     "metadata": {
      "needs_background": "light"
     },
     "output_type": "display_data"
    }
   ],
   "source": [
    "sudoku_solutions=np.load('solved.npy')\n",
    "if len(sudoku_solutions) <10:\n",
    "    for sudoku_solution in sudoku_solutions:\n",
    "        f.plot(sudoku_solution['sudoku'])\n",
    "else:\n",
    "    for i in range(10):\n",
    "        f.plot(sudoku_solutions[i]['sudoku'])"
   ]
  },
  {
   "cell_type": "code",
   "execution_count": 62,
   "metadata": {},
   "outputs": [
    {
     "data": {
      "text/plain": [
       "2"
      ]
     },
     "execution_count": 62,
     "metadata": {},
     "output_type": "execute_result"
    }
   ],
   "source": [
    "sudoku_solutions=np.load('solved.npy')\n",
    "len(sudoku_solutions)"
   ]
  },
  {
   "cell_type": "code",
   "execution_count": 29,
   "metadata": {},
   "outputs": [],
   "source": [
    "import numpy as np\n",
    "import matplotlib.pyplot as plt\n",
    "from datetime import datetime as time\n",
    "import pandas as pd\n",
    "import functions as f\n",
    "import seaborn as sns\n",
    "\n",
    "class Sudoku():\n",
    "    '''Create and solve a sudoku puzzle'''\n",
    "    def __init__(self, \n",
    "                 difficulty=0.5, \n",
    "                 times=2, \n",
    "                 guesses=100):\n",
    "        '''Set initial variables for creating the puzzle'''\n",
    "        self.difficulty = difficulty\n",
    "        self.times = times\n",
    "        self.guesses = guesses\n",
    "        self.sudoku = self.generate_sudoku(difficulty)\n",
    "        \n",
    "    def generate_sudoku(self, mask_rate=0.7):\n",
    "        '''generate a new sudoku puzzle'''\n",
    "        while True:\n",
    "            n = 9\n",
    "            m = np.zeros((n, n), np.int)\n",
    "            rg = np.arange(1, n + 1)\n",
    "            m[0, :] = np.random.choice(rg, n, replace=False)\n",
    "            try:\n",
    "                for r in range(1, n):\n",
    "                    for c in range(n):\n",
    "                        col_rest = np.setdiff1d(rg, m[:r, c])\n",
    "                        row_rest = np.setdiff1d(rg, m[r, :c])\n",
    "                        avb1 = np.intersect1d(col_rest, row_rest)\n",
    "                        sub_r, sub_c = r//3, c//3\n",
    "                        avb2 = np.setdiff1d(np.arange(0, n+1), m[sub_r*3:(sub_r+1)*3, sub_c*3:(sub_c+1)*3].ravel())\n",
    "                        avb = np.intersect1d(avb1, avb2)\n",
    "                        m[r, c] = np.random.choice(avb, size=1)\n",
    "                break\n",
    "            except ValueError:\n",
    "                pass\n",
    "        print(\"Answer:\\n\", m)\n",
    "        mm = m.copy()\n",
    "        mm[np.random.choice([True, False], size=m.shape, p=[mask_rate, 1 - mask_rate])] = 0\n",
    "        print(\"\\nMasked answer:\\n\", mm)\n",
    "        np.save(\"puzzle\", self.create_framework(mm))\n",
    "        return mm\n",
    "\n",
    "    def calculate_and_solve(self,framework_input):\n",
    "        framework=framework_input.copy()\n",
    "        ### calculate each position array###\n",
    "        v_poss=self.list_verticle_framework(framework)\n",
    "        h_poss=self.list_horizontal_framework(framework)\n",
    "        b_poss=self.list_box_framework(framework)\n",
    "        framework_with_positional_element = self.generate_positional_array(framework)\n",
    "        ### solve ####\n",
    "        status,remain_possible=self.solve(framework_with_positional_element,framework,1,v_poss,h_poss,b_poss)\n",
    "        return [framework,status,remain_possible]\n",
    "\n",
    "    def solve_multiple_times(self,sudoku,times,need_conversion=1):\n",
    "        '''wrapper for solve function solve function\n",
    "        input \n",
    "        sudoku.solve_multimple_times(times,need conversion?)\n",
    "        \n",
    "        returns a dictionary\n",
    "        {'sudoku':sudoku,\"loops\":i,\"status\":status,\"remaining\":remain_possible}\n",
    "        '''\n",
    "        new_sudoku=sudoku.copy()\n",
    "        #print(f\"input sudoku is {new_sudoku}\")\n",
    "        ### convert into 3,3,3,3 dimension###\n",
    "        if need_conversion==1:\n",
    "            sudoku=self.create_framework(new_sudoku)\n",
    "        else:\n",
    "            sudoku = new_sudoku\n",
    "        #print(f\"new sudoku is {sudoku}\")\n",
    "        for i in range(times):\n",
    "            sudoku,status,remain_possible=self.calculate_and_solve(sudoku)\n",
    "            if status == 0 : return {'sudoku':sudoku,\"loops\":i,\"status\":status,\"remaining\":remain_possible}\n",
    "        return {'sudoku':sudoku,\"loops\":i,\"status\":status,\"remaining\":remain_possible}\n",
    "\n",
    "    def guess(self,final_sudoku_original,index=0,hindex=0):\n",
    "        final_sudoku=final_sudoku_original.copy()\n",
    "        #first_position=final_sudoku['sudoku'][final_sudoku['remaining']['position'][0][0],final_sudoku['remaining']['position'][0][1],final_sudoku['remaining']['position'][0][2],final_sudoku['remaining']['position'][0][3]]\n",
    "        #print(f'the first position is {first_position}')\n",
    "        possible=final_sudoku['remaining']['possible_num'][hindex]\n",
    "        #print(f'from guess,the possible values are {possible}')\n",
    "        if (len(possible)<10):\n",
    "            final_sudoku['sudoku'][final_sudoku['remaining']['position'][hindex][0],final_sudoku['remaining']['position'][hindex][1],final_sudoku['remaining']['position'][hindex][2],final_sudoku['remaining']['position'][hindex][3]]=possible[index]\n",
    "    #         print(f\"guess {possible[index]} at position {final_sudoku['remaining']['position'][hindex]}\")\n",
    "        else:\n",
    "            print('there are too many possibilities')\n",
    "        #print(first_position,possible)\n",
    "        ### clear variables before return\n",
    "        del final_sudoku['loops'];del final_sudoku['remaining']\n",
    "        return final_sudoku\n",
    "\n",
    "    def solve_complex(self,final_sudoku1,loops=10,hindex=0): # hindex is index of unfound digit to solve\n",
    "        final_sudoku=final_sudoku1.copy()\n",
    "        loopcount=0\n",
    "        sudoku_solution=[]\n",
    "        sudokuarray=[]\n",
    "        while (final_sudoku['status']==1 and loopcount<loops):\n",
    "              for index,j in enumerate(final_sudoku['remaining']['possible_num'][hindex]):\n",
    "    #               print(f\"from solve_complex, possible values are {final_sudoku['remaining']['possible_num'][hindex]} the index is {index}\")\n",
    "        #           print(f\"guess new sudoku {guess(final_sudoku,index=index)['sudoku']}\")\n",
    "                  sudokuarray.append(\n",
    "                      self.solve_multiple_times(\n",
    "                          self.guess(\n",
    "                              final_sudoku,\n",
    "                              index=index,\n",
    "                              hindex=hindex)['sudoku'],\n",
    "                          10,\n",
    "                          need_conversion=0\n",
    "                          )\n",
    "                      )\n",
    "              for sudoku in sudokuarray:\n",
    "                  if sudoku['status'] == 0:\n",
    "    #                     print('sudoku is solved')\n",
    "                        final_sudoku=sudoku\n",
    "                        sudoku_solution.append(sudoku.copy())\n",
    "                  elif sudoku['status'] == 1:\n",
    "    #                     print('continue solving')\n",
    "                        final_sudoku=sudoku\n",
    "              loopcount+=1\n",
    "        return [sudoku_solution,loopcount]\n",
    "    \n",
    "    def create_framework(self,new_sudoku):\n",
    "        return np.swapaxes(np.swapaxes(new_sudoku.reshape([3,3,3,3]),0,2),1,2)\n",
    "\n",
    "    def list_possibilities(self,framework):\n",
    "        possiblelist=[]\n",
    "        for i in range(1,10):\n",
    "            if (i not in framework.flatten()):\n",
    "                possiblelist.append(i)\n",
    "        return possiblelist\n",
    "\n",
    "    def list_verticle_framework(self,framework):\n",
    "        verticleposs=[]\n",
    "        for i in range(3):\n",
    "            for j in range(3):\n",
    "                verticleposs.append(self.list_possibilities(framework[i,:,:,j]))\n",
    "        return verticleposs\n",
    "\n",
    "    def list_horizontal_framework(self,framework):\n",
    "        horizontalposs=[]\n",
    "        for i in range(3):\n",
    "            for j in range(3):\n",
    "                #print (framework[:,i,j,:])\n",
    "                horizontalposs.append(self.list_possibilities(framework[:,i,j,:]))\n",
    "        return horizontalposs\n",
    "\n",
    "    def list_box_framework(self,framework):\n",
    "        boxposs=[]\n",
    "        for i in range(3):\n",
    "            for j in range(3):\n",
    "                #print (framework[i,j,:,:])\n",
    "                boxposs.append(self.list_possibilities(framework[i,j,:,:]))\n",
    "        return boxposs\n",
    "\n",
    "    def generate_positional_array(self,framework):\n",
    "        framework_with_positional_element=np.zeros([3,3,3,3,4],dtype=int)\n",
    "        for indexi,i in enumerate(framework):\n",
    "            for indexj,j in enumerate(i):\n",
    "                for indexk,k in enumerate(j):\n",
    "                    for indexl,l in enumerate(k):\n",
    "                        #print(l,f'vrow is {3*indexi+indexl} hrow is {3*indexj+indexk} box is {3*indexi+indexj}')\n",
    "                        framework_with_positional_element[indexi,indexj,indexk,indexl]=[l,3*indexi+indexl,3*indexj+indexk,3*indexi+indexj]\n",
    "        return framework_with_positional_element\n",
    "\n",
    "    def solve(self,f,framework,tries,v_poss,h_poss,b_poss):\n",
    "        count =0\n",
    "        t0=time.now()\n",
    "        remaining = 0\n",
    "        remain_possible={\"position\":[],\"possible_num\":[]}\n",
    "        while True:\n",
    "            for ii,i in enumerate(f):\n",
    "                for ij,j in enumerate(i):\n",
    "                    for ik,k in enumerate(j):\n",
    "                        for il,l in enumerate(k):\n",
    "                            #print(l)\n",
    "                            if l[0]==0:\n",
    "                                remaining_possibilities=np.intersect1d(np.intersect1d(v_poss[l[1]],h_poss[l[2]]),b_poss[l[3]])\n",
    "                                #print(remaining_possibilities)\n",
    "                                if len(remaining_possibilities)==1:\n",
    "                                    # print (f'replace index {ii}{ij}{ik}{il} with {remaining_possibilities[0]}')\n",
    "                                    framework[ii,ij,ik,il]=remaining_possibilities[0]\n",
    "                                    f[ii,ij,ik,il,0]=remaining_possibilities[0]\n",
    "                                elif (len(remaining_possibilities)==0):\n",
    "                                    # print('sudoku is not possible')\n",
    "                                    return [2,None]\n",
    "                                else:\n",
    "                                    remaining +=1\n",
    "                                    remain_possible[\"possible_num\"].append(remaining_possibilities)\n",
    "                                    remain_possible[\"position\"].append([ii,ij,ik,il])\n",
    "            count +=1\n",
    "            if remaining==0:print('sudoku is solved');return [0,remain_possible]\n",
    "            if count>tries:return [1,remain_possible]\n",
    "        print(f'sudoku completed after {(time.now()-t0).total_seconds()*1000} ms') if remaining ==0 else print (f'sudoku is still not completed after {(time.now()-t0).total_seconds()*1000} ms')\n",
    "\n",
    "\n",
    "\n",
    "    def plot(self,framework):\n",
    "        ''' This function is used to plot the sudoku into a matplotlib chart'''\n",
    "        data = []\n",
    "        for i in framework:\n",
    "            for j in i:\n",
    "                data.append(pd.DataFrame(j))\n",
    "\n",
    "        _, axn = plt.subplots(3, 3, sharex=True, sharey=True)\n",
    "\n",
    "        for axis, dfi in zip(np.swapaxes(axn, 0, 1).flat, data):\n",
    "            sns.heatmap(dfi, annot=True, ax=axis, cbar=False, cmap='Greys')\n",
    "            axis.get_xaxis().set_visible(False)\n",
    "            axis.get_yaxis().set_visible(False)\n",
    "    def plot_solutions(self):\n",
    "        sudoku_solutions=np.load('solved.npy')\n",
    "        if len(sudoku_solutions) <10:\n",
    "            for sudoku_solution in sudoku_solutions:\n",
    "                f.plot(sudoku_solution['sudoku'])\n",
    "        else:\n",
    "            for i in range(10):\n",
    "                f.plot(sudoku_solutions[i]['sudoku'])\n",
    "        plt.show()\n",
    "    def save_solutions(self, sudoku_solutions):\n",
    "        np.save(\"solved\", sudoku_solutions)\n",
    "        print(f'final time is {(time.now()-t0).total_seconds()*1000} \\\n",
    "              ms after {loopcount} guesses. {len(sudoku_solutions)} \\\n",
    "              solutions found')\n",
    "\n"
   ]
  },
  {
   "cell_type": "code",
   "execution_count": 30,
   "metadata": {},
   "outputs": [
    {
     "name": "stdout",
     "output_type": "stream",
     "text": [
      "Answer:\n",
      " [[5 1 2 8 3 7 9 6 4]\n",
      " [8 6 4 1 2 9 7 5 3]\n",
      " [7 9 3 6 5 4 2 1 8]\n",
      " [1 2 8 9 4 3 5 7 6]\n",
      " [4 7 6 5 8 2 3 9 1]\n",
      " [3 5 9 7 1 6 4 8 2]\n",
      " [9 3 1 4 6 5 8 2 7]\n",
      " [2 8 7 3 9 1 6 4 5]\n",
      " [6 4 5 2 7 8 1 3 9]]\n",
      "\n",
      "Masked answer:\n",
      " [[5 1 2 0 0 7 0 0 0]\n",
      " [0 0 4 0 2 0 7 0 3]\n",
      " [7 0 3 6 0 4 2 0 0]\n",
      " [1 2 0 9 0 0 5 7 6]\n",
      " [4 7 6 0 8 2 3 0 0]\n",
      " [0 5 0 0 1 6 4 0 2]\n",
      " [0 0 1 4 0 0 0 0 7]\n",
      " [2 8 7 3 9 0 0 0 0]\n",
      " [0 4 5 2 0 8 1 0 9]]\n"
     ]
    }
   ],
   "source": [
    "#generate sudoku\n",
    "sudoku = Sudoku()"
   ]
  },
  {
   "cell_type": "code",
   "execution_count": 36,
   "metadata": {},
   "outputs": [
    {
     "name": "stdout",
     "output_type": "stream",
     "text": [
      "sudoku is solved\n",
      "sudoku is solved\n",
      "sudoku is solved\n",
      "final time is 54.132               ms after 2 guesses. 3               solutions found\n",
      "final time is 54.305 ms after 2 guesses. 3 solutions found\n"
     ]
    }
   ],
   "source": [
    "import datetime\n",
    "t0=datetime.datetime.now()\n",
    "loopcount=0\n",
    "##first solution\n",
    "final_sudoku=sudoku.solve_multiple_times(sudoku.sudoku,sudoku.times)\n",
    "##all solutions\n",
    "sudoku_solutions=[]\n",
    "if final_sudoku['status']==1:\n",
    "    for i in range(len(final_sudoku['remaining'])):\n",
    "        sudoku_solution,loopcounti=sudoku.solve_complex(final_sudoku,hindex=i,loops=sudoku.guesses)\n",
    "        sudoku_solutions.extend(sudoku_solution)\n",
    "        loopcount+=loopcounti\n",
    "elif final_sudoku['status']==0:\n",
    "    sudoku_solutions.append(final_sudoku)\n",
    "\n",
    "#### save to file ####\n",
    "# np.save(\"solved\", sudoku_solutions)\n",
    "sudoku.save_solutions(sudoku_solutions)\n",
    "print(f'final time is {(time.now()-t0).total_seconds()*1000} ms after {loopcount} guesses. {len(sudoku_solutions)} solutions found')"
   ]
  },
  {
   "cell_type": "code",
   "execution_count": 18,
   "metadata": {},
   "outputs": [
    {
     "data": {
      "image/png": "[encoded data removed]",
      "text/plain": [
       "<matplotlib.figure.Figure at 0x109a47b38>"
      ]
     },
     "metadata": {
      "needs_background": "light"
     },
     "output_type": "display_data"
    }
   ],
   "source": [
    "sudoku.plot(np.load('puzzle.npy'))"
   ]
  },
  {
   "cell_type": "code",
   "execution_count": 63,
   "metadata": {},
   "outputs": [
    {
     "data": {
      "image/png": "[encoded data removed]",
      "text/plain": [
       "<matplotlib.figure.Figure at 0x11d1be7f0>"
      ]
     },
     "metadata": {
      "needs_background": "light"
     },
     "output_type": "display_data"
    },
    {
     "data": {
      "image/png": "[encoded data removed]",
      "text/plain": [
       "<matplotlib.figure.Figure at 0x1a241f3518>"
      ]
     },
     "metadata": {
      "needs_background": "light"
     },
     "output_type": "display_data"
    },
    {
     "data": {
      "image/png": "[encoded data removed]",
      "text/plain": [
       "<matplotlib.figure.Figure at 0x11c597518>"
      ]
     },
     "metadata": {
      "needs_background": "light"
     },
     "output_type": "display_data"
    },
    {
     "data": {
      "image/png": "[encoded data removed]",
      "text/plain": [
       "<matplotlib.figure.Figure at 0x11cdb4ef0>"
      ]
     },
     "metadata": {
      "needs_background": "light"
     },
     "output_type": "display_data"
    }
   ],
   "source": [
    "sudoku.plot_solutions()"
   ]
  },
  {
   "cell_type": "code",
   "execution_count": null,
   "metadata": {},
   "outputs": [],
   "source": []
  }
 ],
 "metadata": {
  "kernelspec": {
   "display_name": "Python 3",
   "language": "python",
   "name": "python3"
  },
  "language_info": {
   "codemirror_mode": {
    "name": "ipython",
    "version": 3
   },
   "file_extension": ".py",
   "mimetype": "text/x-python",
   "name": "python",
   "nbconvert_exporter": "python",
   "pygments_lexer": "ipython3",
   "version": "3.6.8"
  }
 },
 "nbformat": 4,
 "nbformat_minor": 2
}
