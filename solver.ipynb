{
 "cells": [
  {
   "cell_type": "code",
   "execution_count": 12,
   "metadata": {},
   "outputs": [],
   "source": [
    "import numpy as np\n",
    "import matplotlib.pyplot as plt\n",
    "from datetime import datetime as time\n",
    "import functions as f\n",
    "\n",
    "\n",
    "def calculate_and_solve(framework):\n",
    "\t\n",
    "\t### calculate each position array###\n",
    "\tv_poss=f.list_verticle_framework(framework)\n",
    "\th_poss=f.list_horizontal_framework(framework)\n",
    "\tb_poss=f.list_box_framework(framework)\n",
    "\tframework_with_positional_element = f.generate_positional_array(framework)\n",
    "\t### solve ####\n",
    "\tstatus,remain_possible=f.solve(framework_with_positional_element,framework,1,v_poss,h_poss,b_poss)\n",
    "\treturn [framework,status,remain_possible]\n",
    "\n",
    "def solve_multiple_times(new_sudoku,times,need_conversion=1):\n",
    "\t### convert into 3,3,3,3 dimension###\n",
    "\tif need_conversion==1:\n",
    "\t\tsudoku=f.create_framework(new_sudoku)\n",
    "\telse:\n",
    "\t\tsudoku = new_sudoku\n",
    "\tfor i in range(times):\n",
    "\t\tsudoku,status,remain_possible=calculate_and_solve(sudoku)\n",
    "\t\tif status == 0 : return {'sudoku':sudoku,\"loops\":i,\"status\":status,\"remaining\":remain_possible}\n",
    "\treturn {'sudoku':sudoku,\"loops\":i,\"status\":status,\"remaining\":remain_possible}"
   ]
  },
  {
   "cell_type": "code",
   "execution_count": 27,
   "metadata": {},
   "outputs": [
    {
     "name": "stdout",
     "output_type": "stream",
     "text": [
      "Answer:\n",
      " [[4 3 9 1 2 8 6 5 7]\n",
      " [6 1 7 5 9 3 4 8 2]\n",
      " [2 5 8 6 4 7 1 9 3]\n",
      " [7 2 1 9 3 5 8 4 6]\n",
      " [3 6 4 2 8 1 5 7 9]\n",
      " [9 8 5 7 6 4 3 2 1]\n",
      " [1 9 6 8 5 2 7 3 4]\n",
      " [8 7 3 4 1 9 2 6 5]\n",
      " [5 4 2 3 7 6 9 1 8]]\n",
      "\n",
      "Masked anwser:\n",
      " [[0 3 0 0 2 8 0 5 0]\n",
      " [6 0 7 5 0 0 4 0 2]\n",
      " [2 5 8 0 0 0 1 9 0]\n",
      " [0 2 0 9 0 0 0 0 0]\n",
      " [3 6 0 0 0 0 0 0 9]\n",
      " [0 8 0 7 0 0 0 2 0]\n",
      " [1 9 0 0 0 2 7 0 4]\n",
      " [0 0 0 4 0 9 2 0 0]\n",
      " [5 4 2 3 7 0 0 0 8]]\n",
      "replace index 0011 with 1\n",
      "replace index 0211 with 7\n",
      "replace index 1020 with 6\n",
      "replace index 2000 with 6\n",
      "replace index 0210 with 8\n",
      "replace index 1000 with 1\n",
      "replace index 1012 with 3\n",
      "replace index 1200 with 8\n",
      "replace index 2002 with 7\n",
      "replace index 2220 with 9\n",
      "replace index 1011 with 9\n",
      "replace index 1021 with 4\n",
      "replace index 1110 with 2\n",
      "replace index 2011 with 8\n",
      "replace index 2022 with 3\n",
      "replace index 1022 with 7\n",
      "sudoku is not solved 1 after 9 loops.\n",
      " time taken is 37.253 ms \n",
      " with {'position': [[0, 0, 0, 0], [0, 0, 0, 2], [0, 1, 0, 0], [0, 1, 0, 2], [0, 1, 1, 2], [0, 1, 2, 0], [0, 1, 2, 2], [0, 2, 0, 2], [0, 2, 1, 2], [1, 1, 0, 1], [1, 1, 0, 2], [1, 1, 1, 1], [1, 1, 1, 2], [1, 1, 2, 1], [1, 1, 2, 2], [1, 2, 0, 1], [1, 2, 1, 1], [1, 2, 2, 2], [2, 1, 0, 0], [2, 1, 0, 1], [2, 1, 0, 2], [2, 1, 1, 0], [2, 1, 1, 1], [2, 1, 2, 0], [2, 1, 2, 2], [2, 2, 0, 1], [2, 2, 1, 1], [2, 2, 1, 2], [2, 2, 2, 1], [0, 0, 0, 0], [0, 0, 0, 2], [0, 1, 0, 0], [0, 1, 0, 2], [0, 1, 1, 2], [0, 1, 2, 0], [0, 1, 2, 2], [0, 2, 0, 2], [0, 2, 1, 2], [1, 1, 0, 1], [1, 1, 0, 2], [1, 1, 1, 1], [1, 1, 1, 2], [1, 1, 2, 1], [1, 1, 2, 2], [1, 2, 0, 1], [1, 2, 1, 1], [1, 2, 2, 2], [2, 1, 0, 0], [2, 1, 0, 1], [2, 1, 0, 2], [2, 1, 1, 0], [2, 1, 1, 1], [2, 1, 2, 0], [2, 1, 2, 2], [2, 2, 0, 1], [2, 2, 1, 1], [2, 2, 1, 2], [2, 2, 2, 1]], 'possible_num': [array([4, 9]), array([4, 9]), array([4, 7]), array([1, 4, 5]), array([1, 4, 5]), array([4, 9]), array([1, 4, 5, 9]), array([3, 6]), array([3, 6]), array([1, 3, 5, 6, 8]), array([1, 4, 5, 6]), array([1, 5, 8]), array([1, 4, 5]), array([1, 3, 5, 6]), array([1, 4, 5, 6]), array([5, 6]), array([1, 5, 6]), array([1, 6]), array([3, 5, 8]), array([1, 3, 4, 6, 7]), array([1, 5, 6]), array([5, 8]), array([1, 4, 7]), array([3, 5]), array([1, 5, 6]), array([3, 6]), array([1, 3, 6]), array([1, 5, 6]), array([1, 6]), array([4, 9]), array([4, 9]), array([4, 7]), array([1, 4, 5]), array([1, 4, 5]), array([4, 9]), array([1, 4, 5, 9]), array([3, 6]), array([3, 6]), array([1, 3, 5, 6, 8]), array([1, 4, 5, 6]), array([1, 5, 8]), array([1, 4, 5]), array([1, 3, 5, 6]), array([1, 4, 5, 6]), array([5, 6]), array([1, 5, 6]), array([1, 6]), array([3, 5, 8]), array([1, 3, 4, 6, 7]), array([1, 5, 6]), array([5, 8]), array([1, 4, 7]), array([3, 5]), array([1, 5, 6]), array([3, 6]), array([1, 3, 6]), array([1, 5, 6]), array([1, 6])]} still possible\n",
      "[[[0 3 0]\n",
      "  [6 1 7]\n",
      "  [2 5 8]]\n",
      "\n",
      " [[0 2 0]\n",
      "  [3 6 0]\n",
      "  [0 8 0]]\n",
      "\n",
      " [[1 9 0]\n",
      "  [8 7 0]\n",
      "  [5 4 2]]]\n"
     ]
    }
   ],
   "source": [
    "## specify variables\n",
    "difficulty=0.5\n",
    "times=10\n",
    "\n",
    "### generate sudoku ####\n",
    "new_sudoku=f.generate_sudoku(difficulty)\n",
    "t0=time.now()\n",
    "#### calculate and solve###\n",
    "final_sudoku=solve_multiple_times(new_sudoku,times)\n",
    "\n",
    "print(f\"sudoku is {'solved' if final_sudoku['status'] == 0 else 'not solved '+str(final_sudoku['status'])} after {final_sudoku['loops']} loops.\\n time taken is {(time.now()-t0).total_seconds()*1000} ms \\n with {final_sudoku['remaining']} still possible\")\n",
    "if (final_sudoku['status']==1):\n",
    "      print(final_sudoku['sudoku'][final_sudoku['remaining']['position'][0]][0])\n",
    "      #print(final_sudoku['remaining']['position'][0])\n",
    "      #solve_multiple_times(final_sudoku['sudoku'],10,need_conversion==0)\n",
    "#### save to file ####\n",
    "np.save(\"solved\", final_sudoku['sudoku'])"
   ]
  },
  {
   "cell_type": "code",
   "execution_count": 3,
   "metadata": {},
   "outputs": [
    {
     "data": {
      "image/png": "[encoded data removed]",
      "text/plain": [
       "<Figure size 432x288 with 9 Axes>"
      ]
     },
     "metadata": {
      "needs_background": "light"
     },
     "output_type": "display_data"
    }
   ],
   "source": [
    "f.plot(np.load('puzzle.npy'))"
   ]
  },
  {
   "cell_type": "code",
   "execution_count": 4,
   "metadata": {},
   "outputs": [
    {
     "data": {
      "image/png": "[encoded data removed]",
      "text/plain": [
       "<Figure size 432x288 with 9 Axes>"
      ]
     },
     "metadata": {
      "needs_background": "light"
     },
     "output_type": "display_data"
    }
   ],
   "source": [
    "f.plot(np.load('solved.npy'))"
   ]
  },
  {
   "cell_type": "code",
   "execution_count": null,
   "metadata": {},
   "outputs": [],
   "source": []
  },
  {
   "cell_type": "code",
   "execution_count": null,
   "metadata": {},
   "outputs": [],
   "source": []
  }
 ],
 "metadata": {
  "kernelspec": {
   "display_name": "Python 3",
   "language": "python",
   "name": "python3"
  },
  "language_info": {
   "codemirror_mode": {
    "name": "ipython",
    "version": 3
   },
   "file_extension": ".py",
   "mimetype": "text/x-python",
   "name": "python",
   "nbconvert_exporter": "python",
   "pygments_lexer": "ipython3",
   "version": "3.7.2"
  }
 },
 "nbformat": 4,
 "nbformat_minor": 2
}
